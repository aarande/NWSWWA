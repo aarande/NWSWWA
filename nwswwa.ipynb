{
 "cells": [
  {
   "cell_type": "markdown",
   "metadata": {},
   "source": [
    "# NWSWWA Demo"
   ]
  },
  {
   "cell_type": "markdown",
   "metadata": {},
   "source": [
    "Let's take a look at the NWSWWA module and what it can do.\n",
    "First let's parse a Severe Thunderstorm warning and inspect it's properties."
   ]
  },
  {
   "cell_type": "code",
   "execution_count": 2,
   "metadata": {
    "collapsed": true
   },
   "outputs": [],
   "source": [
    "text = '''\n",
    "183 \n",
    "WUUS54 KOUN 262133\n",
    "SVROUN\n",
    "OKC141-TXC487-262215-\n",
    "/O.NEW.KOUN.SV.W.0453.150526T2133Z-150526T2215Z/\n",
    "\n",
    "BULLETIN - IMMEDIATE BROADCAST REQUESTED\n",
    "SEVERE THUNDERSTORM WARNING\n",
    "NATIONAL WEATHER SERVICE NORMAN OK\n",
    "433 PM CDT TUE MAY 26 2015\n",
    "\n",
    "THE NATIONAL WEATHER SERVICE IN NORMAN HAS ISSUED A\n",
    "\n",
    "* SEVERE THUNDERSTORM WARNING FOR...\n",
    "  SOUTHERN TILLMAN COUNTY IN SOUTHWESTERN OKLAHOMA...\n",
    "  NORTHEASTERN WILBARGER COUNTY IN NORTHERN TEXAS...\n",
    "\n",
    "* UNTIL 515 PM CDT\n",
    "\n",
    "* AT 433 PM CDT...A SEVERE THUNDERSTORM WAS LOCATED 5 MILES EAST OF\n",
    "  FARGO...MOVING EAST AT 25 MPH.\n",
    "\n",
    "  HAZARD...PING PONG BALL SIZE HAIL AND 60 MPH WIND GUSTS. \n",
    "\n",
    "  SOURCE...RADAR INDICATED. \n",
    "\n",
    "  IMPACT...PEOPLE AND ANIMALS OUTDOORS WILL BE INJURED. EXPECT HAIL \n",
    "           DAMAGE TO ROOFS...SIDING...WINDOWS AND VEHICLES. EXPECT \n",
    "           WIND DAMAGE TO ROOFS...SIDING AND TREES. \n",
    "\n",
    "* LOCATIONS IMPACTED INCLUDE...\n",
    "  FREDERICK...DAVIDSON...HOLLISTER AND LOVELAND. \n",
    "\n",
    "PRECAUTIONARY/PREPAREDNESS ACTIONS...\n",
    "\n",
    "A TORNADO WATCH REMAINS IN EFFECT FOR THE WARNED AREA. TORNADOES CAN\n",
    "DEVELOP QUICKLY FROM SEVERE THUNDERSTORMS.\n",
    " \n",
    "FOR YOUR PROTECTION MOVE TO AN INTERIOR ROOM ON THE LOWEST FLOOR OF A\n",
    "BUILDING.\n",
    "\n",
    "&&\n",
    "\n",
    "LAT...LON 3437 9924 3434 9923 3434 9919 3437 9920\n",
    "      3446 9875 3415 9872 3417 9889 3418 9891\n",
    "      3421 9895 3418 9895 3421 9925 3436 9927\n",
    "TIME...MOT...LOC 2133Z 266DEG 22KT 3428 9918 \n",
    "\n",
    "HAIL...1.50IN\n",
    "WIND...60MPH\n",
    " \n",
    "$$\n",
    "'''"
   ]
  },
  {
   "cell_type": "markdown",
   "metadata": {},
   "source": [
    "Now let's import the nwswwa module and it's parse method. We will parse the above text warning and it will return an nwswwa.nws.product.TextProduct instance"
   ]
  },
  {
   "cell_type": "code",
   "execution_count": 3,
   "metadata": {
    "collapsed": false
   },
   "outputs": [
    {
     "name": "stdout",
     "output_type": "stream",
     "text": [
      "<nwswwa.nws.product.TextProduct object at 0x2b9e7d98f2d0>\n"
     ]
    }
   ],
   "source": [
    "from nwswwa import parse\n",
    "textprod = parse(text)\n",
    "print textprod"
   ]
  },
  {
   "cell_type": "markdown",
   "metadata": {},
   "source": [
    "Let's take a look at some of the attributes of the TextProduct class"
   ]
  },
  {
   "cell_type": "code",
   "execution_count": 4,
   "metadata": {
    "collapsed": false
   },
   "outputs": [
    {
     "name": "stdout",
     "output_type": "stream",
     "text": [
      "SVROUN\n",
      "WUUS54\n",
      "2015-05-26 21:33:00+00:00\n"
     ]
    }
   ],
   "source": [
    "print textprod.afos\n",
    "print textprod.wmo\n",
    "print textprod.valid"
   ]
  },
  {
   "cell_type": "markdown",
   "metadata": {},
   "source": [
    "Now let's take a look at some of the bullet's."
   ]
  },
  {
   "cell_type": "code",
   "execution_count": 6,
   "metadata": {
    "collapsed": false
   },
   "outputs": [
    {
     "name": "stdout",
     "output_type": "stream",
     "text": [
      "SEVERE THUNDERSTORM WARNING FOR... SOUTHERN TILLMAN COUNTY IN SOUTHWESTERN OKLAHOMA... NORTHEASTERN WILBARGER COUNTY IN NORTHERN TEXAS...\n",
      "UNTIL 515 PM CDT\n",
      "AT 433 PM CDT...A SEVERE THUNDERSTORM WAS LOCATED 5 MILES EAST OF FARGO...MOVING EAST AT 25 MPH.\n",
      "LOCATIONS IMPACTED INCLUDE... FREDERICK...DAVIDSON...HOLLISTER AND LOVELAND.\n"
     ]
    }
   ],
   "source": [
    "segment_one = textprod.segments[0]\n",
    "for bullet in segment_one.bullets:\n",
    "    print bullet"
   ]
  },
  {
   "cell_type": "code",
   "execution_count": 7,
   "metadata": {
    "collapsed": false
   },
   "outputs": [
    {
     "name": "stdout",
     "output_type": "stream",
     "text": [
      "1.50\n",
      "60\n",
      "None\n"
     ]
    }
   ],
   "source": [
    "print segment_one.hailtag\n",
    "print segment_one.windtag\n",
    "print segment_one.tornadotag"
   ]
  },
  {
   "cell_type": "code",
   "execution_count": 8,
   "metadata": {
    "collapsed": false
   },
   "outputs": [
    {
     "name": "stdout",
     "output_type": "stream",
     "text": [
      "[OKC141, TXC487]\n"
     ]
    }
   ],
   "source": [
    "print segment_one.ugcs"
   ]
  },
  {
   "cell_type": "code",
   "execution_count": 9,
   "metadata": {
    "collapsed": false
   },
   "outputs": [
    {
     "name": "stdout",
     "output_type": "stream",
     "text": [
      "/O.NEW.KOUN.SV.W.0453.150526T2133Z-150526T2215Z/\n",
      "453\n",
      "NEW\n",
      "2015-05-26 21:33:00+00:00\n",
      "2015-05-26 22:15:00+00:00\n",
      "OUN\n",
      "SV\n",
      "W\n",
      "O\n"
     ]
    }
   ],
   "source": [
    "print segment_one.vtec[0]\n",
    "print segment_one.vtec[0].ETN\n",
    "print segment_one.vtec[0].action\n",
    "print segment_one.vtec[0].begints\n",
    "print segment_one.vtec[0].endts\n",
    "print segment_one.vtec[0].office\n",
    "print segment_one.vtec[0].phenomena\n",
    "print segment_one.vtec[0].significance\n",
    "print segment_one.vtec[0].status\n"
   ]
  },
  {
   "cell_type": "code",
   "execution_count": null,
   "metadata": {
    "collapsed": true
   },
   "outputs": [],
   "source": []
  }
 ],
 "metadata": {
  "kernelspec": {
   "display_name": "Python 2",
   "language": "python",
   "name": "python2"
  },
  "language_info": {
   "codemirror_mode": {
    "name": "ipython",
    "version": 2
   },
   "file_extension": ".py",
   "mimetype": "text/x-python",
   "name": "python",
   "nbconvert_exporter": "python",
   "pygments_lexer": "ipython2",
   "version": "2.7.9"
  }
 },
 "nbformat": 4,
 "nbformat_minor": 0
}
